{
  "cells": [
    {
      "cell_type": "code",
      "execution_count": null,
      "metadata": {
        "id": "uua1Cluc9tMX"
      },
      "outputs": [],
      "source": [
        "! pip install opacus"
      ]
    },
    {
      "cell_type": "code",
      "execution_count": 7,
      "metadata": {
        "id": "gxahUryz9xEN"
      },
      "outputs": [
        {
          "name": "stdout",
          "output_type": "stream",
          "text": [
            "Number of examples in train dataset: 60000\n",
            "Number of examples in test dataset: 10000\n",
            "Total number of iteration: 100, number of epoches: 10, sampling rate: 0.1\n",
            "Number of trainable parameters: 26010\n"
          ]
        }
      ],
      "source": [
        "import torch\n",
        "from torchvision import datasets, transforms\n",
        "import numpy as np\n",
        "import opacus\n",
        "from tqdm import tqdm\n",
        "import random\n",
        "\n",
        "def seed_everything(seed: int):\n",
        "    # Set the random seed for Python, NumPy, and PyTorch\n",
        "    random.seed(seed)\n",
        "    np.random.seed(seed)\n",
        "    torch.manual_seed(seed)\n",
        "    torch.cuda.manual_seed_all(seed)  # If using CUDA\n",
        "    # If you are using CuDNN, you can set it to deterministic mode for further reproducibility\n",
        "    torch.backends.cudnn.deterministic = True\n",
        "    torch.backends.cudnn.benchmark = False\n",
        "\n",
        "seed_everything(123456)\n",
        "\n",
        "\n",
        "# privacy related\n",
        "target_eps = 1\n",
        "delta = 1e-5\n",
        "clipping_th = 1\n",
        "sampling_rate = 0.1 \n",
        "T = 100\n",
        "E = int(T * sampling_rate)\n",
        "\n",
        "# Loading MNIST Data\n",
        "train_dataset = datasets.MNIST(\n",
        "    '../mnist',\n",
        "    train=True,\n",
        "    download=True,\n",
        "    transform=transforms.Compose(\n",
        "        [\n",
        "            transforms.ToTensor(),\n",
        "            transforms.Normalize(\n",
        "                (0.1307,), (0.3081,)\n",
        "            )\n",
        "        ]\n",
        "    )\n",
        ")\n",
        "test_dataset = datasets.MNIST(\n",
        "    '../mnist',\n",
        "    train=False,\n",
        "    download=True,\n",
        "    transform=transforms.Compose(\n",
        "        [\n",
        "            transforms.ToTensor(),\n",
        "            transforms.Normalize(\n",
        "                (0.1307,), (0.3081,)\n",
        "            )\n",
        "        ]\n",
        "    )\n",
        ")\n",
        "\n",
        "#\n",
        "print(f'Number of examples in train dataset: {len(train_dataset)}')\n",
        "print(f'Number of examples in test dataset: {len(test_dataset)}')\n",
        "print(f'Total number of iteration: {T}, number of epoches: {E}, sampling rate: {sampling_rate}')\n",
        "\n",
        "# dataloders\n",
        "train_loader = torch.utils.data.DataLoader(\n",
        "    train_dataset,\n",
        "    batch_size=int(len(train_dataset) * sampling_rate),\n",
        "    shuffle=True,\n",
        "    num_workers=4,\n",
        "    pin_memory=True\n",
        ")\n",
        "\n",
        "test_loader = torch.utils.data.DataLoader(\n",
        "    test_dataset,\n",
        "    batch_size=1024,\n",
        "    shuffle=False,\n",
        "    num_workers=4,\n",
        "    pin_memory=True\n",
        ")\n",
        "\n",
        "# Creating a PyTorch Neural Network Classification Model and Optimizer\n",
        "model = torch.nn.Sequential(\n",
        "    torch.nn.Conv2d(1, 16, 8, 2, padding=3),\n",
        "    torch.nn.ReLU(),\n",
        "    torch.nn.MaxPool2d(2, 1),\n",
        "\n",
        "    torch.nn.Conv2d(16, 32, 4, 2),\n",
        "    torch.nn.ReLU(),\n",
        "    torch.nn.MaxPool2d(2, 1),\n",
        "\n",
        "    torch.nn.Flatten(),\n",
        "    torch.nn.Linear(32 * 4 * 4, 32), torch.nn.ReLU(), torch.nn.Linear(32, 10)\n",
        ")\n",
        "\n",
        "print(f'Number of trainable parameters: {sum([p.numel() for p in model.parameters()])}')\n",
        "\n",
        "optimizer_origin = torch.optim.Adam(model.parameters(), lr=0.01)\n",
        "criterion = torch.nn.CrossEntropyLoss()"
      ]
    },
    {
      "cell_type": "code",
      "execution_count": 8,
      "metadata": {
        "id": "O9Z4srJ09zzQ"
      },
      "outputs": [
        {
          "name": "stdout",
          "output_type": "stream",
          "text": [
            "To run 100 iteration with sampling rate 0.1\n",
            "Should set sigma = 4.277611 such that we have ((1,1e-05)-DP guarantee\n"
          ]
        }
      ],
      "source": [
        "import opacus.accountants.rdp as privacy_accountant\n",
        "PA = privacy_accountant.RDPAccountant()\n",
        "\n",
        "# sub routine, give noise multiplier sigma, fixed iteration number, compute the privacy loss\n",
        "def from_noise_to_epsilon(sigma, delta, sampling_rate, T):\n",
        "    for i in range(T):\n",
        "        PA.step(noise_multiplier = sigma, sample_rate = sampling_rate)\n",
        "    result = PA.get_privacy_spent(delta = delta)\n",
        "    PA.history = []\n",
        "    return result[0]\n",
        "\n",
        "# given privacy budget compute how much noise multiplier should be set to satisfy such\n",
        "def from_privacy_budget_to_noise(target_eps, delta, sampling_rate, T):\n",
        "    sigma_low = 0.1\n",
        "    sigma_high = 50\n",
        "    sigma_mid = (sigma_low + sigma_high) / 2\n",
        "    # TODO, implement binary search\n",
        "    tolerance = delta/10  \n",
        "    \n",
        "    \n",
        "    while sigma_high - sigma_low > tolerance:\n",
        "        sigma_mid = (sigma_low + sigma_high) / 2\n",
        "        \n",
        "        eps = from_noise_to_epsilon(\n",
        "            sigma_mid, \n",
        "            delta, \n",
        "            sampling_rate, \n",
        "            T\n",
        "        )\n",
        "        if eps > target_eps:\n",
        "            sigma_low = sigma_mid\n",
        "        else:\n",
        "            sigma_high = sigma_mid\n",
        "            \n",
        "    return (sigma_low + sigma_high) / 2\n",
        "\n",
        "sigma_of_noise = from_privacy_budget_to_noise(target_eps=1, delta=delta, sampling_rate=sampling_rate, T=T)\n",
        "print(f'To run {T} iteration with sampling rate {sampling_rate}')\n",
        "print(f'Should set sigma = {sigma_of_noise:.6f} such that we have (({target_eps},{delta})-DP guarantee')"
      ]
    },
    {
      "cell_type": "code",
      "execution_count": 9,
      "metadata": {
        "id": "YDLlZ84892i-"
      },
      "outputs": [],
      "source": [
        "# Attaching a Differential Privacy Engine to the Optimizer\n",
        "privacy_engine = opacus.PrivacyEngine()\n",
        "\n",
        "model, optimizer, dataloader = privacy_engine.make_private(\n",
        "    module=model,\n",
        "    optimizer=optimizer_origin,\n",
        "    data_loader=train_loader,\n",
        "    noise_multiplier=sigma_of_noise,\n",
        "    max_grad_norm=clipping_th,\n",
        " )\n"
      ]
    },
    {
      "cell_type": "code",
      "execution_count": 14,
      "metadata": {
        "id": "9cX0LkhT-Azu"
      },
      "outputs": [],
      "source": [
        "def compute_per_grad_norm(iterator):\n",
        "    per_grad_norm = 0\n",
        "    for p in iterator:\n",
        "        n_sample = p.shape[0]\n",
        "        per_grad_norm += torch.norm(p.view(n_sample, -1), dim = 1, p = 2)**2\n",
        "    per_grad_norm = per_grad_norm**0.5\n",
        "    return per_grad_norm\n",
        "\n",
        "def make_broadcastable(tensor_to_be_reshape, target_tensor):\n",
        "    broadcasting_shape = (-1, *[1 for _ in target_tensor.shape[1:]])\n",
        "    return tensor_to_be_reshape.reshape(broadcasting_shape)\n",
        "\n",
        "def clip_per_example_grad(container, clipping_th):\n",
        "    container = list(container)\n",
        "    per_grad_norm = compute_per_grad_norm(container) + 1e-7\n",
        "\n",
        "    ''' clipping '''\n",
        "    scaling = torch.minimum(\n",
        "        torch.ones_like(per_grad_norm),\n",
        "        clipping_th / per_grad_norm\n",
        "    )\n",
        "    \n",
        "    for i in range(len(container)):\n",
        "        scale_factor = make_broadcastable(scaling, container[i])\n",
        "        container[i] = container[i] * scale_factor\n",
        "\n",
        "    return container\n",
        "\n",
        "def clip_grad(model, clipping_th):\n",
        "    contrainer = [p.grad_sample for p in model.parameters()]\n",
        "    return clip_per_example_grad(contrainer, clipping_th)\n",
        "\n",
        "def check_manual_clipping_correctness(model):\n",
        "    clipped_grad_contrainer = clip_grad(model, clipping_th)\n",
        "    for p, clipped_grad_sub_part in zip(model.parameters(), clipped_grad_contrainer):\n",
        "        clipped_sumed_grad_by_opacus = p.summed_grad\n",
        "        clipped_sumed_grad_manual = clipped_grad_sub_part.sum(dim = 0)\n",
        "        print(torch.norm(clipped_sumed_grad_by_opacus), torch.norm(clipped_sumed_grad_manual))\n",
        "        assert torch.allclose(torch.norm(clipped_sumed_grad_by_opacus), torch.norm(clipped_sumed_grad_manual), rtol = 1e-5), f'{torch.norm(clipped_sumed_grad_by_opacus)}, {torch.norm(clipped_sumed_grad_manual)},'\n"
      ]
    },
    {
      "cell_type": "code",
      "execution_count": 11,
      "metadata": {
        "id": "bi3zk6sj-Ct3"
      },
      "outputs": [
        {
          "name": "stdout",
          "output_type": "stream",
          "text": [
            "\n",
            "=> Epoch: 0\n"
          ]
        },
        {
          "name": "stderr",
          "output_type": "stream",
          "text": [
            "  0%|          | 0/10 [00:00<?, ?it/s]/opt/anaconda3/envs/algorithm/lib/python3.12/site-packages/torch/nn/modules/module.py:1352: UserWarning: Using a non-full backward hook when the forward contains multiple autograd Nodes is deprecated and will be removed in future versions. This hook will be missing some grad_input. Please use register_full_backward_hook to get the documented behavior.\n",
            "  warnings.warn(\"Using a non-full backward hook when the forward contains multiple autograd Nodes \"\n",
            "100%|██████████| 10/10 [00:19<00:00,  1.92s/it]\n"
          ]
        },
        {
          "name": "stdout",
          "output_type": "stream",
          "text": [
            "Train Loss: 1.717661, accuracy:  0.394117\n"
          ]
        },
        {
          "name": "stderr",
          "output_type": "stream",
          "text": [
            "100%|██████████| 10/10 [00:03<00:00,  3.33it/s]\n"
          ]
        },
        {
          "name": "stdout",
          "output_type": "stream",
          "text": [
            "\n",
            "Test Loss: 0.934917, accuracy:  0.715900\n",
            "\n",
            "=> Epoch: 1\n"
          ]
        },
        {
          "name": "stderr",
          "output_type": "stream",
          "text": [
            "100%|██████████| 10/10 [00:17<00:00,  1.77s/it]\n"
          ]
        },
        {
          "name": "stdout",
          "output_type": "stream",
          "text": [
            "Train Loss: 1.134279, accuracy:  0.773433\n"
          ]
        },
        {
          "name": "stderr",
          "output_type": "stream",
          "text": [
            "100%|██████████| 10/10 [00:03<00:00,  3.25it/s]\n"
          ]
        },
        {
          "name": "stdout",
          "output_type": "stream",
          "text": [
            "\n",
            "Test Loss: 1.120249, accuracy:  0.837946\n",
            "\n",
            "=> Epoch: 2\n"
          ]
        },
        {
          "name": "stderr",
          "output_type": "stream",
          "text": [
            "100%|██████████| 10/10 [00:14<00:00,  1.43s/it]\n"
          ]
        },
        {
          "name": "stdout",
          "output_type": "stream",
          "text": [
            "Train Loss: 1.182921, accuracy:  0.849233\n"
          ]
        },
        {
          "name": "stderr",
          "output_type": "stream",
          "text": [
            "100%|██████████| 10/10 [00:02<00:00,  4.47it/s]\n"
          ]
        },
        {
          "name": "stdout",
          "output_type": "stream",
          "text": [
            "\n",
            "Test Loss: 0.970666, accuracy:  0.881407\n",
            "\n",
            "=> Epoch: 3\n"
          ]
        },
        {
          "name": "stderr",
          "output_type": "stream",
          "text": [
            "100%|██████████| 10/10 [00:14<00:00,  1.42s/it]\n"
          ]
        },
        {
          "name": "stdout",
          "output_type": "stream",
          "text": [
            "Train Loss: 0.954596, accuracy:  0.881500\n"
          ]
        },
        {
          "name": "stderr",
          "output_type": "stream",
          "text": [
            "100%|██████████| 10/10 [00:02<00:00,  4.07it/s]\n"
          ]
        },
        {
          "name": "stdout",
          "output_type": "stream",
          "text": [
            "\n",
            "Test Loss: 0.795841, accuracy:  0.900470\n",
            "\n",
            "=> Epoch: 4\n"
          ]
        },
        {
          "name": "stderr",
          "output_type": "stream",
          "text": [
            "100%|██████████| 10/10 [00:14<00:00,  1.43s/it]\n"
          ]
        },
        {
          "name": "stdout",
          "output_type": "stream",
          "text": [
            "Train Loss: 0.755628, accuracy:  0.901617\n"
          ]
        },
        {
          "name": "stderr",
          "output_type": "stream",
          "text": [
            "100%|██████████| 10/10 [00:02<00:00,  4.82it/s]\n"
          ]
        },
        {
          "name": "stdout",
          "output_type": "stream",
          "text": [
            "\n",
            "Test Loss: 0.648888, accuracy:  0.916281\n",
            "\n",
            "=> Epoch: 5\n"
          ]
        },
        {
          "name": "stderr",
          "output_type": "stream",
          "text": [
            "100%|██████████| 10/10 [00:14<00:00,  1.44s/it]\n"
          ]
        },
        {
          "name": "stdout",
          "output_type": "stream",
          "text": [
            "Train Loss: 0.618576, accuracy:  0.914850\n"
          ]
        },
        {
          "name": "stderr",
          "output_type": "stream",
          "text": [
            "100%|██████████| 10/10 [00:02<00:00,  4.89it/s]\n"
          ]
        },
        {
          "name": "stdout",
          "output_type": "stream",
          "text": [
            "\n",
            "Test Loss: 0.535862, accuracy:  0.927368\n",
            "\n",
            "=> Epoch: 6\n"
          ]
        },
        {
          "name": "stderr",
          "output_type": "stream",
          "text": [
            "100%|██████████| 10/10 [00:14<00:00,  1.41s/it]\n"
          ]
        },
        {
          "name": "stdout",
          "output_type": "stream",
          "text": [
            "Train Loss: 0.523119, accuracy:  0.926000\n"
          ]
        },
        {
          "name": "stderr",
          "output_type": "stream",
          "text": [
            "100%|██████████| 10/10 [00:02<00:00,  4.73it/s]\n"
          ]
        },
        {
          "name": "stdout",
          "output_type": "stream",
          "text": [
            "\n",
            "Test Loss: 0.471344, accuracy:  0.934120\n",
            "\n",
            "=> Epoch: 7\n"
          ]
        },
        {
          "name": "stderr",
          "output_type": "stream",
          "text": [
            "100%|██████████| 10/10 [00:13<00:00,  1.38s/it]\n"
          ]
        },
        {
          "name": "stdout",
          "output_type": "stream",
          "text": [
            "Train Loss: 0.474324, accuracy:  0.933450\n"
          ]
        },
        {
          "name": "stderr",
          "output_type": "stream",
          "text": [
            "100%|██████████| 10/10 [00:02<00:00,  4.87it/s]\n"
          ]
        },
        {
          "name": "stdout",
          "output_type": "stream",
          "text": [
            "\n",
            "Test Loss: 0.432128, accuracy:  0.939302\n",
            "\n",
            "=> Epoch: 8\n"
          ]
        },
        {
          "name": "stderr",
          "output_type": "stream",
          "text": [
            "100%|██████████| 10/10 [00:14<00:00,  1.40s/it]\n"
          ]
        },
        {
          "name": "stdout",
          "output_type": "stream",
          "text": [
            "Train Loss: 0.424102, accuracy:  0.938050\n"
          ]
        },
        {
          "name": "stderr",
          "output_type": "stream",
          "text": [
            "100%|██████████| 10/10 [00:02<00:00,  4.74it/s]\n"
          ]
        },
        {
          "name": "stdout",
          "output_type": "stream",
          "text": [
            "\n",
            "Test Loss: 0.416884, accuracy:  0.939429\n",
            "\n",
            "=> Epoch: 9\n"
          ]
        },
        {
          "name": "stderr",
          "output_type": "stream",
          "text": [
            "100%|██████████| 10/10 [00:13<00:00,  1.39s/it]\n"
          ]
        },
        {
          "name": "stdout",
          "output_type": "stream",
          "text": [
            "Train Loss: 0.390571, accuracy:  0.941500\n"
          ]
        },
        {
          "name": "stderr",
          "output_type": "stream",
          "text": [
            "100%|██████████| 10/10 [00:02<00:00,  4.85it/s]"
          ]
        },
        {
          "name": "stdout",
          "output_type": "stream",
          "text": [
            "\n",
            "Test Loss: 0.373229, accuracy:  0.943929\n"
          ]
        },
        {
          "name": "stderr",
          "output_type": "stream",
          "text": [
            "\n"
          ]
        }
      ],
      "source": [
        "# Step 5: Training the private model over multiple epochs\n",
        "def test(model, test_loader, device, delta):\n",
        "    model.eval()\n",
        "    losses = []\n",
        "    accuracy = []\n",
        "    with torch.no_grad():\n",
        "        for _batch_idx, (data, target) in enumerate(tqdm(test_loader)):\n",
        "            data, target = data.to(device), target.to(device)\n",
        "            output = model(data)\n",
        "            loss = criterion(output, target)\n",
        "            losses.append(loss.item())\n",
        "            accuracy.append((output.argmax(dim=1) == target).float().mean())\n",
        "\n",
        "    print(f\"\\nTest Loss: {np.mean(losses):.6f}, accuracy:  {np.mean(accuracy):.6f}\")\n",
        "\n",
        "def train(model, train_loader, optimizer, epoch, device, delta):\n",
        "    print(f'\\n=> Epoch: {epoch}')\n",
        "    model.train()\n",
        "    losses = []\n",
        "    accuracy = []\n",
        "    for _batch_idx, (data, target) in enumerate(tqdm(train_loader)):\n",
        "        data, target = data.to(device), target.to(device)\n",
        "        optimizer.zero_grad()\n",
        "\n",
        "        output = model(data)\n",
        "\n",
        "        loss = criterion(output, target)\n",
        "        loss.backward()\n",
        "\n",
        "        optimizer.step()\n",
        "\n",
        "        # check_manual_clipping_correctness(model)\n",
        "\n",
        "        losses.append(loss.item())\n",
        "        accuracy.append((output.argmax(dim=1) == target).float().mean())\n",
        "\n",
        "    print(f\"Train Loss: {np.mean(losses):.6f}, accuracy:  {np.mean(accuracy):.6f}\")\n",
        "    test(model, test_loader, device, delta)\n",
        "\n",
        "#\n",
        "device = torch.device(\"cuda\" if torch.cuda.is_available() else \"cpu\")\n",
        "model.to(device)\n",
        "\n",
        "for epoch in range(E):\n",
        "    train(model, train_loader, optimizer, epoch, device=device, delta=1e-5)"
      ]
    }
  ],
  "metadata": {
    "colab": {
      "provenance": []
    },
    "kernelspec": {
      "display_name": "Python 3",
      "name": "python3"
    },
    "language_info": {
      "codemirror_mode": {
        "name": "ipython",
        "version": 3
      },
      "file_extension": ".py",
      "mimetype": "text/x-python",
      "name": "python",
      "nbconvert_exporter": "python",
      "pygments_lexer": "ipython3",
      "version": "3.12.7"
    }
  },
  "nbformat": 4,
  "nbformat_minor": 0
}
